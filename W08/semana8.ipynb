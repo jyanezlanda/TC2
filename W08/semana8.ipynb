{
 "cells": [
  {
   "cell_type": "markdown",
   "id": "b2e95e6f",
   "metadata": {},
   "source": [
    "<img src=\"./logo_UTN.svg\" align=\"right\" width=\"150\" /> \n",
    "\n",
    "#### Teoría de Circuitos II\n",
    "# Evidencias semana 8\n",
    "## 07-06-2023\n",
    "#### Autor: Yañez $\\lambda$, Joaquin"
   ]
  },
  {
   "cell_type": "markdown",
   "id": "d7e9abbd",
   "metadata": {},
   "source": [
    " Esta semana se centró en comenzar a diseñar el trabajo práctico de laboratorio, al cual se le realizará un informa completo una vez realizado el encuentro y las mediciones del mismo, por lo que no se encuentra en estas evidencias. Por otro lado, miré todos los videos de la clase de funciones bilineales y bicuadráticas. No me termina de quedar claro como levantar la impedancia de un circuito activo como puede ser el Ackerberg-Mosberg. Por otro lado mire un poco y coordine con mi compañero para realizar la TS4 bis²."
   ]
  },
  {
   "cell_type": "code",
   "execution_count": 1,
   "id": "70b8d114",
   "metadata": {},
   "outputs": [
    {
     "data": {
      "text/html": [
       "\n",
       "        <iframe\n",
       "            width=\"800\"\n",
       "            height=\"800\"\n",
       "            src=\"./Evidencias_Semana_8.pdf\"\n",
       "            frameborder=\"0\"\n",
       "            allowfullscreen\n",
       "            \n",
       "        ></iframe>\n",
       "        "
      ],
      "text/plain": [
       "<IPython.lib.display.IFrame at 0x7fc20668bfd0>"
      ]
     },
     "execution_count": 1,
     "metadata": {},
     "output_type": "execute_result"
    }
   ],
   "source": [
    "from IPython.display import IFrame\n",
    "IFrame(\"./Evidencias_Semana_8.pdf\", width=800, height=800)"
   ]
  }
 ],
 "metadata": {
  "kernelspec": {
   "display_name": "Python 3 (ipykernel)",
   "language": "python",
   "name": "python3"
  },
  "language_info": {
   "codemirror_mode": {
    "name": "ipython",
    "version": 3
   },
   "file_extension": ".py",
   "mimetype": "text/x-python",
   "name": "python",
   "nbconvert_exporter": "python",
   "pygments_lexer": "ipython3",
   "version": "3.10.6"
  }
 },
 "nbformat": 4,
 "nbformat_minor": 5
}

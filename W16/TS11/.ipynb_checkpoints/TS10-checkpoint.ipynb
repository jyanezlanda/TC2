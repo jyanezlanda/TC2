{
 "cells": [
  {
   "cell_type": "markdown",
   "id": "b2e95e6f",
   "metadata": {},
   "source": [
    "<img src=\"./Img/logo_UTN.svg\" align=\"right\" width=\"150\" /> \n",
    "\n",
    "#### Teoría de Circuitos II\n",
    "# Tarea Semanal 10\n",
    "## Síntesis de funciones de exitación\n",
    "## 27-10-2023\n",
    "#### Autor: Yañez $\\lambda$, Joaquin"
   ]
  },
  {
   "cell_type": "markdown",
   "id": "d7e9abbd",
   "metadata": {},
   "source": [
    "## Consigna\n",
    "\n",
    "Esta tarea semanal se basa en el diseño y síntesis de funciones de excitación disipar, la misma consta de dos ejercicios distintos que se resolverán en diferentes partes de este documento. El primero se da un ciruito que tiene forma de escalera, pero consta con dos ramas RC cuyas constantes temporales son valores dados. El segundo ejercicio pide en base a un circuito dado, encontrar los valores de los componentes para que se cumpla con cierta función excitación.\n",
    "\n",
    "## Ejercicio #1\n",
    "\n",
    "La primer parte se centra en implementar los métodos de cauer y foster para sintetizar una función de excitación. A continuación se muestra el enunciado del problema:\n",
    "\n",
    "![Texto alternativo](./Img/Consignas.png \"Imagen 1. Consigna del primer ejercicio\")\n",
    "\n",
    "<center>  Imagen 1. Consigna del primer ejercicio </center>\n",
    "\n",
    "A continuación se muestra la síntesis realizada en papel mediante los diferentes métodos propuestos. Cabe destacar que se tiene que tener en cuenta que se especifica que esta función es una impedancia para comenzar a remover componentes.\n",
    "\n",
    "### Análisis en papel"
   ]
  },
  {
   "cell_type": "code",
   "execution_count": 1,
   "id": "c74dac7a",
   "metadata": {},
   "outputs": [
    {
     "data": {
      "text/html": [
       "\n",
       "        <iframe\n",
       "            width=\"1000\"\n",
       "            height=\"800\"\n",
       "            src=\"./src/TS10_E1.pdf\"\n",
       "            frameborder=\"0\"\n",
       "            allowfullscreen\n",
       "            \n",
       "        ></iframe>\n",
       "        "
      ],
      "text/plain": [
       "<IPython.lib.display.IFrame at 0x7f5e4e9c0c10>"
      ]
     },
     "execution_count": 1,
     "metadata": {},
     "output_type": "execute_result"
    }
   ],
   "source": [
    "from IPython.display import IFrame\n",
    "IFrame(\"./src/TS10_E1.pdf\", width=1000, height=800)"
   ]
  },
  {
   "cell_type": "markdown",
   "id": "65bf3658-cd3a-41f9-ad6c-02c3d0b6a4cc",
   "metadata": {},
   "source": [
    "Cabe destacar como se tiene en cuenta la naturaleza de las función para implementar la primer inmitacia obtenida en los métodos de Cauer y para armar las redes serie o derivación de Foster.\n",
    "\n",
    "Ahora se realizará una simulación en python para comparar los resultados en papel."
   ]
  },
  {
   "cell_type": "code",
   "execution_count": 2,
   "id": "3dc9927f",
   "metadata": {},
   "outputs": [],
   "source": [
    "from pytc2.sintesis_dipolo import remover_polo_dc, remover_polo_infinito, remover_valor_en_dc, remover_valor_en_infinito\n",
    "from pytc2.general import print_latex, print_subtitle, a_equal_b_latex_s\n",
    "from pytc2.remociones import remover_polo_sigma\n",
    "import sympy as sp"
   ]
  },
  {
   "cell_type": "code",
   "execution_count": 3,
   "id": "05f6bc87",
   "metadata": {},
   "outputs": [
    {
     "data": {
      "text/latex": [
       "$\\displaystyle Z(s)=\\frac{\\left(s + 2\\right) \\left(s + 4\\right)}{\\left(s + 1\\right) \\left(s + 3\\right)}$"
      ],
      "text/plain": [
       "<IPython.core.display.Math object>"
      ]
     },
     "metadata": {},
     "output_type": "display_data"
    }
   ],
   "source": [
    "s = sp.symbols('s', complex=True)\n",
    "\n",
    "ZZ = ((s + 4)*(s + 2))/((s + 3)*(s + 1))\n",
    "\n",
    "print_latex(a_equal_b_latex_s('Z(s)', ZZ))"
   ]
  },
  {
   "cell_type": "code",
   "execution_count": 4,
   "id": "c567d022",
   "metadata": {},
   "outputs": [
    {
     "data": {
      "text/latex": [
       "$\\displaystyle K1=\\frac{8}{15}$"
      ],
      "text/plain": [
       "<IPython.core.display.Math object>"
      ]
     },
     "metadata": {},
     "output_type": "display_data"
    },
    {
     "data": {
      "text/latex": [
       "$\\displaystyle Za(s)=\\frac{\\left(s + 6\\right) \\left(7 s + 16\\right)}{15 \\left(s + 1\\right) \\left(s + 3\\right)}$"
      ],
      "text/plain": [
       "<IPython.core.display.Math object>"
      ]
     },
     "metadata": {},
     "output_type": "display_data"
    }
   ],
   "source": [
    "# Sintesis de la impedancia en serie mediante el método de Foster\n",
    "Za, K1 = remover_valor_en_infinito(ZZ, sigma_zero = 6)\n",
    "\n",
    "print_latex(a_equal_b_latex_s('K1', K1))\n",
    "print_latex(a_equal_b_latex_s('Za(s)', Za))"
   ]
  },
  {
   "cell_type": "markdown",
   "id": "3ba6d24b-e1dd-4907-bfae-b5ea02a1d349",
   "metadata": {},
   "source": [
    "Se observa como el residuo es real, ya que se remueve un valor por lo que será una resistencia en serie de valor $\\frac{8}{15}$"
   ]
  },
  {
   "cell_type": "code",
   "execution_count": 8,
   "id": "3c18ed1a",
   "metadata": {},
   "outputs": [
    {
     "data": {
      "text/latex": [
       "$\\displaystyle K2=\\frac{75 s}{52 \\left(s + 6\\right)}$"
      ],
      "text/plain": [
       "<IPython.core.display.Math object>"
      ]
     },
     "metadata": {},
     "output_type": "display_data"
    },
    {
     "data": {
      "text/latex": [
       "$\\displaystyle R1=\\frac{52}{75}$"
      ],
      "text/plain": [
       "<IPython.core.display.Math object>"
      ]
     },
     "metadata": {},
     "output_type": "display_data"
    },
    {
     "data": {
      "text/latex": [
       "$\\displaystyle C1=\\frac{25}{104}$"
      ],
      "text/plain": [
       "<IPython.core.display.Math object>"
      ]
     },
     "metadata": {},
     "output_type": "display_data"
    },
    {
     "data": {
      "text/latex": [
       "$\\displaystyle Yb(s)=\\frac{15 \\cdot \\left(17 s + 26\\right)}{52 \\cdot \\left(7 s + 16\\right)}$"
      ],
      "text/plain": [
       "<IPython.core.display.Math object>"
      ]
     },
     "metadata": {},
     "output_type": "display_data"
    }
   ],
   "source": [
    "# Primero se convierte la función en una admitancia para poder sintetizarla con foster derivación\n",
    "Ya = 1/Za\n",
    "\n",
    "Yb, K2, R, C = remover_polo_sigma(imm= Ya, sigma = 6, isImpedance = False, isRC=True, sigma_zero= None)\n",
    "print_latex(a_equal_b_latex_s('K2', K2))\n",
    "print_latex(a_equal_b_latex_s('R1', R))\n",
    "print_latex(a_equal_b_latex_s('C1', C))\n",
    "Yb = sp.nsimplify(Yb)\n",
    "print_latex(a_equal_b_latex_s('Yb(s)', Yb))"
   ]
  },
  {
   "cell_type": "markdown",
   "id": "62e9122c-59c0-4b64-a544-c164f6859d9e",
   "metadata": {},
   "source": [
    "Nuevamente se confirma lo analizado en el papel, valores de la rama RC eran los esperados. Ahora como la impedancia que sigue se encuentra en serie debemos volver a invertir la función y remover parcialmente para que el cero caiga en $\\frac{7}{2}$"
   ]
  },
  {
   "cell_type": "code",
   "execution_count": 13,
   "id": "692d7369",
   "metadata": {},
   "outputs": [
    {
     "data": {
      "text/latex": [
       "$\\displaystyle K3=\\frac{879601990049751}{1000000000000000}$"
      ],
      "text/plain": [
       "<IPython.core.display.Math object>"
      ]
     },
     "metadata": {},
     "output_type": "display_data"
    },
    {
     "data": {
      "text/latex": [
       "$\\displaystyle Zc(s)=\\frac{32.5970149253731 \\cdot \\left(0.285714285714286 s + 1.0\\right)}{17 s + 26}$"
      ],
      "text/plain": [
       "<IPython.core.display.Math object>"
      ]
     },
     "metadata": {},
     "output_type": "display_data"
    }
   ],
   "source": [
    "Zb = 1/Yb\n",
    "\n",
    "Zc, K3 = remover_valor_en_infinito(Zb, sigma_zero = 7/2)\n",
    "K3 = sp.nsimplify(K3)\n",
    "\n",
    "print_latex(a_equal_b_latex_s('K3', K3))\n",
    "print_latex(a_equal_b_latex_s('Zc(s)', Zc))"
   ]
  },
  {
   "cell_type": "markdown",
   "id": "05652c9b-7d13-4174-9559-fcaaede8128c",
   "metadata": {},
   "source": [
    "Si bien los valores estan expresados con decimales y con formas distintas al papel los valores obtenidos tanto para la resistencia en serie que se remueve como la impedancia obtenida son exactamente equivalentes. Ahora se debe remover la segunda rama RC y observar el valor resultante que será la impedancia Z3."
   ]
  },
  {
   "cell_type": "code",
   "execution_count": 15,
   "id": "57a362b6-1ae8-4966-a7dd-a60e2881d4c5",
   "metadata": {},
   "outputs": [
    {
     "data": {
      "text/latex": [
       "$\\displaystyle K4=\\frac{1.02770146520147 s}{s + 3.5}$"
      ],
      "text/plain": [
       "<IPython.core.display.Math object>"
      ]
     },
     "metadata": {},
     "output_type": "display_data"
    },
    {
     "data": {
      "text/latex": [
       "$\\displaystyle R2=0.973045221652929$"
      ],
      "text/plain": [
       "<IPython.core.display.Math object>"
      ]
     },
     "metadata": {},
     "output_type": "display_data"
    },
    {
     "data": {
      "text/latex": [
       "$\\displaystyle C2=0.293628990057562$"
      ],
      "text/plain": [
       "<IPython.core.display.Math object>"
      ]
     },
     "metadata": {},
     "output_type": "display_data"
    },
    {
     "data": {
      "text/latex": [
       "$\\displaystyle Yd(s)=\\frac{67 \\cdot \\left(\\frac{4 s^{2}}{49} + \\frac{4 s}{7} + 1\\right)}{84 \\left(\\frac{2 s}{7} + 1\\right)^{2}}$"
      ],
      "text/plain": [
       "<IPython.core.display.Math object>"
      ]
     },
     "metadata": {},
     "output_type": "display_data"
    }
   ],
   "source": [
    "Yc = 1/Zc\n",
    "\n",
    "Yd, K4, R, C = remover_polo_sigma(imm= Yc, sigma = 7/2, isImpedance = False, isRC=True, sigma_zero= None)\n",
    "print_latex(a_equal_b_latex_s('K4', K4))\n",
    "print_latex(a_equal_b_latex_s('R2', R))\n",
    "print_latex(a_equal_b_latex_s('C2', C))\n",
    "Yd = sp.nsimplify(Yd)\n",
    "print_latex(a_equal_b_latex_s('Yd(s)', Yd))"
   ]
  },
  {
   "cell_type": "markdown",
   "id": "00f753bd-0249-4b56-8c8f-88a9e32690fe",
   "metadata": {},
   "source": [
    "La impedancia Yd no es la esperada, esto se debe principalmente a un error de redondeo numérico en la simulación, sin embargo el resto de los valores son exactamente iguales a los anticipados en papel.\n",
    "\n",
    "\n",
    "## Ejercicio #2\n",
    "\n",
    "A continuación se muestra la consigna de la 2da parte de la tarea semanal, este pide obtener los valores de los componentes de un circuito para cumplir con cierta función de exitación.\n",
    "\n",
    "![Texto alternativo](./Img/Consignas_2.png \"Imagen 2. Consigna del segundo ejercicio\")\n",
    "<center>  Imagen 2. Consigna del segundo ejercicio </center>\n",
    "\n",
    "Para este ejercicio se aprovecha la topología para saber que remoción hacer en cada paso. A continuación se muestra el análisis resuelto en papel del ejercicio."
   ]
  },
  {
   "cell_type": "code",
   "execution_count": 17,
   "id": "b5f5e6e0-eb73-41c6-8d43-a61e327f5787",
   "metadata": {},
   "outputs": [
    {
     "data": {
      "text/html": [
       "\n",
       "        <iframe\n",
       "            width=\"1000\"\n",
       "            height=\"800\"\n",
       "            src=\"./src/TS10_E2.pdf\"\n",
       "            frameborder=\"0\"\n",
       "            allowfullscreen\n",
       "            \n",
       "        ></iframe>\n",
       "        "
      ],
      "text/plain": [
       "<IPython.lib.display.IFrame at 0x7f5e14116150>"
      ]
     },
     "execution_count": 17,
     "metadata": {},
     "output_type": "execute_result"
    }
   ],
   "source": [
    "IFrame(\"./src/TS10_E2.pdf\", width=1000, height=800)"
   ]
  },
  {
   "cell_type": "markdown",
   "id": "2950d776-97bc-4ca9-a453-81d9230940ea",
   "metadata": {},
   "source": [
    "Para poder comprobar el análisis se realiza una pequeña simulación en python. Como el ejercicio es muy específico y no hay un método sistemático para resolverlo se irá removiendo componente a componente y comparandolo con el valor esperado"
   ]
  },
  {
   "cell_type": "code",
   "execution_count": 19,
   "id": "24e5ca82-7f03-46f4-821c-843c26c02e6e",
   "metadata": {},
   "outputs": [
    {
     "data": {
      "text/latex": [
       "$\\displaystyle Z(s)=\\frac{s^{2} + s + 1}{\\left(s + 1\\right) \\left(s^{2} + 2 s + 5\\right)}$"
      ],
      "text/plain": [
       "<IPython.core.display.Math object>"
      ]
     },
     "metadata": {},
     "output_type": "display_data"
    },
    {
     "data": {
      "text/latex": [
       "$\\displaystyle Y(s)=\\frac{\\left(s + 1\\right) \\left(s^{2} + 2 s + 5\\right)}{s^{2} + s + 1}$"
      ],
      "text/plain": [
       "<IPython.core.display.Math object>"
      ]
     },
     "metadata": {},
     "output_type": "display_data"
    }
   ],
   "source": [
    "s = sp.symbols('s', complex=True)\n",
    "\n",
    "\n",
    "ZZ = 1*(s**2 + s + 1)/((s**2 + 2*s + 5)*(s+1))\n",
    "\n",
    "YY = 1/ZZ\n",
    "print_latex(a_equal_b_latex_s('Z(s)', ZZ))\n",
    "print_latex(a_equal_b_latex_s('Y(s)', YY))\n"
   ]
  },
  {
   "cell_type": "code",
   "execution_count": 21,
   "id": "f18d2731-a3c9-4a75-94f0-29b204bf7f49",
   "metadata": {},
   "outputs": [
    {
     "data": {
      "text/latex": [
       "$\\displaystyle C1=s$"
      ],
      "text/plain": [
       "<IPython.core.display.Math object>"
      ]
     },
     "metadata": {},
     "output_type": "display_data"
    },
    {
     "data": {
      "text/latex": [
       "$\\displaystyle Y1(s)=\\frac{2 s^{2} + 6 s + 5}{s^{2} + s + 1}$"
      ],
      "text/plain": [
       "<IPython.core.display.Math object>"
      ]
     },
     "metadata": {},
     "output_type": "display_data"
    },
    {
     "data": {
      "text/latex": [
       "$\\displaystyle R1=2$"
      ],
      "text/plain": [
       "<IPython.core.display.Math object>"
      ]
     },
     "metadata": {},
     "output_type": "display_data"
    },
    {
     "data": {
      "text/latex": [
       "$\\displaystyle Y2(s)=\\frac{4 s + 3}{s^{2} + s + 1}$"
      ],
      "text/plain": [
       "<IPython.core.display.Math object>"
      ]
     },
     "metadata": {},
     "output_type": "display_data"
    }
   ],
   "source": [
    "# Remoción del capacitor y del resistor en derivavción de la entrada\n",
    "\n",
    "Y1, K1oo = remover_polo_infinito(YY)\n",
    "print_latex(a_equal_b_latex_s('C1', K1oo))\n",
    "print_latex(a_equal_b_latex_s('Y1(s)',Y1))\n",
    "\n",
    "\n",
    "Y2, K2 = remover_valor_en_infinito(Y1)\n",
    "print_latex(a_equal_b_latex_s('R1', 1/K2)) # Se lo invierte ya que el residuo es el valor de la admitancia xq se remueve en derivación\n",
    "print_latex(a_equal_b_latex_s('Y2(s)',Y2))\n"
   ]
  },
  {
   "cell_type": "markdown",
   "id": "e453498d-d80b-4aea-9f28-335f2776c686",
   "metadata": {},
   "source": [
    "Se observa como el valor de los componentes coincide con el encontrado en papel, a continuación se continua con las remociones."
   ]
  },
  {
   "cell_type": "code",
   "execution_count": 23,
   "id": "88966d7a-f3bd-4960-9a2f-1e011937a692",
   "metadata": {},
   "outputs": [
    {
     "data": {
      "text/latex": [
       "$\\displaystyle L1=\\frac{s}{4}$"
      ],
      "text/plain": [
       "<IPython.core.display.Math object>"
      ]
     },
     "metadata": {},
     "output_type": "display_data"
    },
    {
     "data": {
      "text/latex": [
       "$\\displaystyle Z3(s)=\\frac{s + 4}{4 \\cdot \\left(4 s + 3\\right)}$"
      ],
      "text/plain": [
       "<IPython.core.display.Math object>"
      ]
     },
     "metadata": {},
     "output_type": "display_data"
    },
    {
     "data": {
      "text/latex": [
       "$\\displaystyle R2=\\frac{1}{16}$"
      ],
      "text/plain": [
       "<IPython.core.display.Math object>"
      ]
     },
     "metadata": {},
     "output_type": "display_data"
    },
    {
     "data": {
      "text/latex": [
       "$\\displaystyle Z4(s)=\\frac{13}{16 \\cdot \\left(4 s + 3\\right)}$"
      ],
      "text/plain": [
       "<IPython.core.display.Math object>"
      ]
     },
     "metadata": {},
     "output_type": "display_data"
    }
   ],
   "source": [
    "Z2 = 1/Y2\n",
    "Z3, K3oo = remover_polo_infinito(Z2)\n",
    "print_latex(a_equal_b_latex_s('L1', K3oo))\n",
    "print_latex(a_equal_b_latex_s('Z3(s)',Z3))\n",
    "\n",
    "Z4, K4 = remover_valor_en_infinito(Z3)\n",
    "print_latex(a_equal_b_latex_s('R2', K4)) # Se lo invierte ya que el residuo es el valor de la admitancia xq se remueve en derivación\n",
    "print_latex(a_equal_b_latex_s('Z4(s)',Z4))"
   ]
  },
  {
   "cell_type": "markdown",
   "id": "0b3d4c0e-3329-49a4-8589-41da406229e9",
   "metadata": {},
   "source": [
    "Nuevamente se encuentran los valores de los componentes y coinciden con el desarrollo en papel, cabe destacar que esta rama RL estará en serie a la admitancia RC anterior, ya que esta última fue removida desde una función impedancia mientras que la primera se removió de una función admitancia"
   ]
  },
  {
   "cell_type": "code",
   "execution_count": 24,
   "id": "4dd537f2-d4fc-4574-a347-d5302ae4f674",
   "metadata": {},
   "outputs": [
    {
     "data": {
      "text/latex": [
       "$\\displaystyle Y4(s)=\\frac{64 s}{13} + \\frac{48}{13}$"
      ],
      "text/plain": [
       "<IPython.core.display.Math object>"
      ]
     },
     "metadata": {},
     "output_type": "display_data"
    }
   ],
   "source": [
    "Y4 = 1/Z4\n",
    "print_latex(a_equal_b_latex_s('Y4(s)',Y4))"
   ]
  },
  {
   "cell_type": "markdown",
   "id": "77bafabb-edf8-4bf6-8997-8cd41ae738b8",
   "metadata": {},
   "source": [
    "Ya con esta función admitancia quedan explicitados los valores de la admitancia RC de cierre de la red, estos coinciden otra vez con lo desarrollado en papel."
   ]
  }
 ],
 "metadata": {
  "kernelspec": {
   "display_name": "Python 3 (ipykernel)",
   "language": "python",
   "name": "python3"
  },
  "language_info": {
   "codemirror_mode": {
    "name": "ipython",
    "version": 3
   },
   "file_extension": ".py",
   "mimetype": "text/x-python",
   "name": "python",
   "nbconvert_exporter": "python",
   "pygments_lexer": "ipython3",
   "version": "3.11.5"
  }
 },
 "nbformat": 4,
 "nbformat_minor": 5
}

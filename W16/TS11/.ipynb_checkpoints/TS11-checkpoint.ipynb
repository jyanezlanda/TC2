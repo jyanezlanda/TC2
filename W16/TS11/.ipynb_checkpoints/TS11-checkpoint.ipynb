{
 "cells": [
  {
   "cell_type": "markdown",
   "id": "b2e95e6f",
   "metadata": {},
   "source": [
    "<img src=\"./Img/logo_UTN.svg\" align=\"right\" width=\"150\" /> \n",
    "\n",
    "#### Teoría de Circuitos II\n",
    "# Tarea Semanal 11\n",
    "## Síntesis de funciones Transferencias descargadas\n",
    "## 11-11-2023\n",
    "#### Autor: Yañez $\\lambda$, Joaquin"
   ]
  },
  {
   "cell_type": "markdown",
   "id": "d7e9abbd",
   "metadata": {},
   "source": [
    "## Consigna\n",
    "\n",
    "Esta tarea semanal se basa en el diseño y síntesis de funciones transferencias descargadas, la misma consta de dos ejercicios distintos que se resolverán en diferentes partes de este documento. El primero pide sintetizar un circuito que cumpla con dos parámetros admitancia diferentes a la vez, por las características de las funciones sabemos que serán no disipativas . El segundo ejercicio pide sintetizar una función transferencia, se debe hacer tanto por parametros Z como por parámetros Y.\n",
    "\n",
    "## Ejercicio #1\n",
    "\n",
    "La consigna del primer ejercicio es la siguiente:\n",
    "\n",
    "![Texto alternativo](./Img/Consignas.png \"Imagen 1. Consigna del primer ejercicio\")\n",
    "\n",
    "<center>  Imagen 1. Consigna del primer ejercicio </center>\n",
    "\n",
    "A continuación se muestra la síntesis realizada en papel, primero se realizó un análisis gráfico para lograr encontrar el cirucito sin valores para después realizar un análisis analítico y así encontrar los valores de los componentes. Cabe destacar que se tiene que tener en cuenta las condiciones de medición y de excitación de los diferentes parámetros para realizar el circuito.\n",
    "\n",
    "### Análisis en papel"
   ]
  },
  {
   "cell_type": "code",
   "execution_count": 2,
   "id": "c74dac7a",
   "metadata": {},
   "outputs": [
    {
     "data": {
      "text/html": [
       "\n",
       "        <iframe\n",
       "            width=\"1000\"\n",
       "            height=\"800\"\n",
       "            src=\"./src/TS11_E1.pdf\"\n",
       "            frameborder=\"0\"\n",
       "            allowfullscreen\n",
       "            \n",
       "        ></iframe>\n",
       "        "
      ],
      "text/plain": [
       "<IPython.lib.display.IFrame at 0x7f87aa920d10>"
      ]
     },
     "execution_count": 2,
     "metadata": {},
     "output_type": "execute_result"
    }
   ],
   "source": [
    "from IPython.display import IFrame\n",
    "IFrame(\"./src/TS11_E1.pdf\", width=1000, height=800)"
   ]
  },
  {
   "cell_type": "markdown",
   "id": "65bf3658-cd3a-41f9-ad6c-02c3d0b6a4cc",
   "metadata": {},
   "source": [
    "Ahora se realizará una simulación en python para comparar los resultados en papel."
   ]
  },
  {
   "cell_type": "code",
   "execution_count": 10,
   "id": "3dc9927f",
   "metadata": {},
   "outputs": [],
   "source": [
    "from pytc2.sintesis_dipolo import remover_polo_dc, remover_polo_infinito\n",
    "from pytc2.general import print_latex, print_subtitle, a_equal_b_latex_s\n",
    "from pytc2.remociones import remover_polo_jw, remover_valor_en_infinito, remover_valor_en_dc, remover_polo_sigma\n",
    "import sympy as sp"
   ]
  },
  {
   "cell_type": "code",
   "execution_count": 3,
   "id": "05f6bc87",
   "metadata": {},
   "outputs": [
    {
     "data": {
      "text/latex": [
       "$\\displaystyle Y11(s)=\\frac{3 s \\left(s^{2} + \\frac{7}{3}\\right)}{\\left(s^{2} + 2\\right) \\left(s^{2} + 5\\right)}$"
      ],
      "text/plain": [
       "<IPython.core.display.Math object>"
      ]
     },
     "metadata": {},
     "output_type": "display_data"
    }
   ],
   "source": [
    "s = sp.symbols('s', complex=True)\n",
    "\n",
    "Y11 = (3*s*(s**2 + 7/3))/((s**2 + 2)*(s**2 + 5))\n",
    "Y11 = sp.nsimplify(Y11)\n",
    "\n",
    "print_latex(a_equal_b_latex_s('Y11(s)', Y11))"
   ]
  },
  {
   "cell_type": "code",
   "execution_count": 4,
   "id": "c567d022",
   "metadata": {},
   "outputs": [
    {
     "data": {
      "text/latex": [
       "$\\displaystyle K1=\\frac{s}{3}$"
      ],
      "text/plain": [
       "<IPython.core.display.Math object>"
      ]
     },
     "metadata": {},
     "output_type": "display_data"
    },
    {
     "data": {
      "text/latex": [
       "$\\displaystyle Z1(s)=\\frac{2 \\cdot \\left(7 s^{2} + 15\\right)}{3 s \\left(3 s^{2} + 7\\right)}$"
      ],
      "text/plain": [
       "<IPython.core.display.Math object>"
      ]
     },
     "metadata": {},
     "output_type": "display_data"
    }
   ],
   "source": [
    "# Sintesis de la impedancia en serie mediante el método de Foster\n",
    "Z1, K1 = remover_polo_infinito(1/Y11)\n",
    "\n",
    "print_latex(a_equal_b_latex_s('K1', K1))\n",
    "print_latex(a_equal_b_latex_s('Z1(s)', Z1))"
   ]
  },
  {
   "cell_type": "markdown",
   "id": "3ba6d24b-e1dd-4907-bfae-b5ea02a1d349",
   "metadata": {},
   "source": [
    "El residuo representa un inductor de valor $\\frac{1}{3}$, como se mostraba en el papel"
   ]
  },
  {
   "cell_type": "code",
   "execution_count": 5,
   "id": "3c18ed1a",
   "metadata": {},
   "outputs": [
    {
     "data": {
      "text/latex": [
       "$\\displaystyle K2=\\frac{4}{3 s}$"
      ],
      "text/plain": [
       "<IPython.core.display.Math object>"
      ]
     },
     "metadata": {},
     "output_type": "display_data"
    },
    {
     "data": {
      "text/latex": [
       "$\\displaystyle Z2(s)=\\frac{2 \\left(s^{2} + 1\\right)}{3 s \\left(3 s^{2} + 7\\right)}$"
      ],
      "text/plain": [
       "<IPython.core.display.Math object>"
      ]
     },
     "metadata": {},
     "output_type": "display_data"
    }
   ],
   "source": [
    "# Primero se convierte la función en una admitancia para poder sintetizarla con foster derivación\n",
    "Z2, K2 = remover_polo_dc(Z1, omega_zero = 1)\n",
    "\n",
    "print_latex(a_equal_b_latex_s('K2', K2))\n",
    "print_latex(a_equal_b_latex_s('Z2(s)', Z2))"
   ]
  },
  {
   "cell_type": "markdown",
   "id": "62e9122c-59c0-4b64-a544-c164f6859d9e",
   "metadata": {},
   "source": [
    "Nuevamente se confirma lo analizado en el papel, se acaba de remover parcialmente un capacitor en serie para poder lograr una frecuencia crítica en $j\\omega = 1$. Ahora se prosigue removiendo en este valor para poder lograr el cero en Y21"
   ]
  },
  {
   "cell_type": "code",
   "execution_count": 10,
   "id": "692d7369",
   "metadata": {},
   "outputs": [
    {
     "data": {
      "text/latex": [
       "$\\displaystyle L2=\\frac{1}{6}$"
      ],
      "text/plain": [
       "<IPython.core.display.Math object>"
      ]
     },
     "metadata": {},
     "output_type": "display_data"
    },
    {
     "data": {
      "text/latex": [
       "$\\displaystyle C2=6$"
      ],
      "text/plain": [
       "<IPython.core.display.Math object>"
      ]
     },
     "metadata": {},
     "output_type": "display_data"
    },
    {
     "data": {
      "text/latex": [
       "$\\displaystyle K3=\\frac{6 s}{s^{2} + 1}$"
      ],
      "text/plain": [
       "<IPython.core.display.Math object>"
      ]
     },
     "metadata": {},
     "output_type": "display_data"
    },
    {
     "data": {
      "text/latex": [
       "$\\displaystyle Y3(s)=\\frac{9 s}{2}$"
      ],
      "text/plain": [
       "<IPython.core.display.Math object>"
      ]
     },
     "metadata": {},
     "output_type": "display_data"
    }
   ],
   "source": [
    "Y3, K3, L2, C2 = remover_polo_jw(1/Z2, omega= 1, isImpedance=False, omega_zero = None)\n",
    "K3 = sp.nsimplify(K3)\n",
    "\n",
    "\n",
    "print_latex(a_equal_b_latex_s('L2', L2))\n",
    "print_latex(a_equal_b_latex_s('C2', C2))\n",
    "print_latex(a_equal_b_latex_s('K3', K3))\n",
    "print_latex(a_equal_b_latex_s('Y3(s)', Y3))"
   ]
  },
  {
   "cell_type": "markdown",
   "id": "05652c9b-7d13-4174-9559-fcaaede8128c",
   "metadata": {},
   "source": [
    "Luego de esta remoción que se condice con los valores encontrados en el papel se verifica que el circuito hallado es correcto, por último el elemento de cierre debería ser un capacitor en derivación de valor 9/2, sin embargo como la condición de medición es $V_2 = 0$ se debe invertir la admitancia y cerrar con un capacitor en serie del mismo valor."
   ]
  },
  {
   "cell_type": "markdown",
   "id": "00f753bd-0249-4b56-8c8f-88a9e32690fe",
   "metadata": {},
   "source": [
    "Para verificar los parámetros pedidos, se simuló en Spice el circuito obtenido, se graficaron los parámetros que pedía la consigna y se busca que tengan las singularidades en las frecuencias esperadas, los resultados fueron los siguientes:\n",
    "\n",
    "![Texto alternativo](./Img/esch_E1.png \"Imagen 2. Circuito simulado en Spice\")\n",
    "\n",
    "<center>  Imagen 2. Circuito simulado en Spice </center>\n",
    "\n",
    "![Texto alternativo](./Img/out_E1.png \"Imagen 3. Parámetros obtenidos\")\n",
    "\n",
    "<center>  Imagen 3. Parámetros obtenidos</center>\n",
    "\n",
    "Es destacable como los picos se dan a las frecuencias esperadas así como tambien se condicen las tendencias en los extremos de las funciones.\n",
    "## Ejercicio #2\n",
    "\n",
    "A continuación se muestra la consigna de la 2da parte de la tarea semanal, este pide obtener la síntesis de una red a partir de la función transferencia, sintetizando tanto una Y como una Z.\n",
    "\n",
    "![Texto alternativo](./Img/Consignas_2.png \"Imagen 4. Consigna del segundo ejercicio\")\n",
    "<center>  Imagen 4. Consigna del segundo ejercicio </center>\n",
    "\n",
    "A continuación se muestra el análisis resuelto en papel del ejercicio."
   ]
  },
  {
   "cell_type": "code",
   "execution_count": 3,
   "id": "b5f5e6e0-eb73-41c6-8d43-a61e327f5787",
   "metadata": {},
   "outputs": [
    {
     "data": {
      "text/html": [
       "\n",
       "        <iframe\n",
       "            width=\"1000\"\n",
       "            height=\"800\"\n",
       "            src=\"./src/TS11_E2.pdf\"\n",
       "            frameborder=\"0\"\n",
       "            allowfullscreen\n",
       "            \n",
       "        ></iframe>\n",
       "        "
      ],
      "text/plain": [
       "<IPython.lib.display.IFrame at 0x7f8798b5b210>"
      ]
     },
     "execution_count": 3,
     "metadata": {},
     "output_type": "execute_result"
    }
   ],
   "source": [
    "IFrame(\"./src/TS11_E2.pdf\", width=1000, height=800)"
   ]
  },
  {
   "cell_type": "markdown",
   "id": "2950d776-97bc-4ca9-a453-81d9230940ea",
   "metadata": {},
   "source": [
    "Es destacable que en el análisis en papel a la hora de sintetizar el circuito con admitancias se eligió en primer medida un polinomio auxiliar que provocaba una transferencia incorrecta (Tenía un 0 de mas) por lo que se decidió realizarla nuevamente con otro polinomio y será el segundo el que se simule\n",
    "\n",
    "Para poder comprobar el análisis se realiza una pequeña simulación en python. Como el ejercicio es muy específico y no hay un método sistemático para resolverlo se irá removiendo componente a componente y comparandolo con el valor esperado\n",
    "\n",
    "### Sintesis de impedancia"
   ]
  },
  {
   "cell_type": "code",
   "execution_count": 9,
   "id": "24e5ca82-7f03-46f4-821c-843c26c02e6e",
   "metadata": {},
   "outputs": [
    {
     "data": {
      "text/latex": [
       "$\\displaystyle Z(s)=\\frac{\\left(s + 2\\right) \\left(s + 4\\right)}{\\left(s + 1\\right) \\left(s + 3\\right)}$"
      ],
      "text/plain": [
       "<IPython.core.display.Math object>"
      ]
     },
     "metadata": {},
     "output_type": "display_data"
    },
    {
     "data": {
      "text/latex": [
       "$\\displaystyle Y(s)=\\frac{\\left(s + 1\\right) \\left(s + 3\\right)}{\\left(s + 2\\right) \\left(s + 4\\right)}$"
      ],
      "text/plain": [
       "<IPython.core.display.Math object>"
      ]
     },
     "metadata": {},
     "output_type": "display_data"
    }
   ],
   "source": [
    "s = sp.symbols('s', complex=True)\n",
    "\n",
    "\n",
    "ZZ = 1*(s + 2)*(s + 4)/((s + 3)*(s + 1))\n",
    "\n",
    "YY = 1/ZZ\n",
    "print_latex(a_equal_b_latex_s('Z(s)', ZZ))\n",
    "print_latex(a_equal_b_latex_s('Y(s)', YY))\n"
   ]
  },
  {
   "cell_type": "code",
   "execution_count": 14,
   "id": "f18d2731-a3c9-4a75-94f0-29b204bf7f49",
   "metadata": {},
   "outputs": [
    {
     "data": {
      "text/latex": [
       "$\\displaystyle Za(s)=\\frac{3}{2 \\left(s + 1\\right)}$"
      ],
      "text/plain": [
       "<IPython.core.display.Math object>"
      ]
     },
     "metadata": {},
     "output_type": "display_data"
    },
    {
     "data": {
      "text/latex": [
       "$\\displaystyle C1=\\frac{2}{3}$"
      ],
      "text/plain": [
       "<IPython.core.display.Math object>"
      ]
     },
     "metadata": {},
     "output_type": "display_data"
    },
    {
     "data": {
      "text/latex": [
       "$\\displaystyle R1=\\frac{3}{2}$"
      ],
      "text/plain": [
       "<IPython.core.display.Math object>"
      ]
     },
     "metadata": {},
     "output_type": "display_data"
    },
    {
     "data": {
      "text/latex": [
       "$\\displaystyle Y1(s)=\\frac{2 s + 7}{2 \\left(s + 3\\right)}$"
      ],
      "text/plain": [
       "<IPython.core.display.Math object>"
      ]
     },
     "metadata": {},
     "output_type": "display_data"
    },
    {
     "data": {
      "text/latex": [
       "$\\displaystyle R1=1$"
      ],
      "text/plain": [
       "<IPython.core.display.Math object>"
      ]
     },
     "metadata": {},
     "output_type": "display_data"
    },
    {
     "data": {
      "text/latex": [
       "$\\displaystyle Y2(s)=\\frac{1}{2 \\left(s + 3\\right)}$"
      ],
      "text/plain": [
       "<IPython.core.display.Math object>"
      ]
     },
     "metadata": {},
     "output_type": "display_data"
    }
   ],
   "source": [
    "# Remoción del capacitor y del resistor en derivavción de la entrada\n",
    "\n",
    "Z1, K1, R1, C1 = remover_polo_sigma(ZZ, sigma = 1)\n",
    "print_latex(a_equal_b_latex_s('Za(s)', K1))\n",
    "print_latex(a_equal_b_latex_s('C1', C1))\n",
    "print_latex(a_equal_b_latex_s('R1', R1))\n",
    "print_latex(a_equal_b_latex_s('Z1(s)',Y1))\n",
    "\n",
    "\n",
    "Z2, K2 = remover_valor_en_infinito(Z1)\n",
    "print_latex(a_equal_b_latex_s('R2', K2)) # Se lo invierte ya que el residuo es el valor de la admitancia xq se remueve en derivación\n",
    "print_latex(a_equal_b_latex_s('Z2(s)',Z2))\n"
   ]
  },
  {
   "cell_type": "markdown",
   "id": "e453498d-d80b-4aea-9f28-335f2776c686",
   "metadata": {},
   "source": [
    "Se observa como el valor de los componentes coincide con el encontrado en papel, a continuación se continua con las remociones."
   ]
  },
  {
   "cell_type": "code",
   "execution_count": 15,
   "id": "88966d7a-f3bd-4960-9a2f-1e011937a692",
   "metadata": {},
   "outputs": [
    {
     "data": {
      "text/latex": [
       "$\\displaystyle Y2(s)=2 s + 6$"
      ],
      "text/plain": [
       "<IPython.core.display.Math object>"
      ]
     },
     "metadata": {},
     "output_type": "display_data"
    }
   ],
   "source": [
    "Y2 = 1/Z2\n",
    "print_latex(a_equal_b_latex_s('Y2(s)',Y2))"
   ]
  },
  {
   "cell_type": "markdown",
   "id": "0b3d4c0e-3329-49a4-8589-41da406229e9",
   "metadata": {},
   "source": [
    "Vemos que la admitancia es un capacitor de valor 2 con un resistor en serie de valor $\\frac{1}{6}$ como se obtuvo en papel, a continuación se utilizará la MAI para poder corroborar la transferencia"
   ]
  },
  {
   "cell_type": "code",
   "execution_count": 16,
   "id": "4dd537f2-d4fc-4574-a347-d5302ae4f674",
   "metadata": {},
   "outputs": [],
   "source": [
    "from pytc2.cuadripolos import calc_MAI_vtransf_ij_mn, calc_MAI_impedance_ij, calc_MAI_ztransf_ij_mn\n",
    "from pytc2.general import print_latex"
   ]
  },
  {
   "cell_type": "code",
   "execution_count": 19,
   "id": "c0bf94b4-f4e4-4871-8e57-5881d43eea5a",
   "metadata": {},
   "outputs": [
    {
     "data": {
      "text/latex": [
       "$\\displaystyle \\left[\\begin{matrix}\\frac{2 s}{3} + \\frac{2}{3} & 0 & 0 & - \\frac{2 s}{3} - \\frac{2}{3}\\\\0 & 2 s + 7 & - 2 s - 6 & -1\\\\0 & - 2 s - 6 & 2 s + 6 & 0\\\\- \\frac{2 s}{3} - \\frac{2}{3} & -1 & 0 & \\frac{2 s}{3} + \\frac{5}{3}\\end{matrix}\\right]$"
      ],
      "text/plain": [
       "<IPython.core.display.Math object>"
      ]
     },
     "metadata": {},
     "output_type": "display_data"
    }
   ],
   "source": [
    "R1 = 3/(2)\n",
    "G1 = 1/R1\n",
    "C1 = 2/3\n",
    "R2 = 1/(6)\n",
    "G2 = 1/R2\n",
    "C2 = 2\n",
    "R3 = 1\n",
    "G3 = 1/R3\n",
    "\n",
    "\n",
    "## Armo la MAI\n",
    "\n",
    "##              Nodos: 0            1              2               \n",
    "Ymai = sp.Matrix([  \n",
    "                    [ G1 + s*C1   ,       0            ,        0    ,  -(G1 + s*C1)],\n",
    "                    [ 0           ,  (G2+s*C2) + G3    , -(G2+s*C2)  ,       -G3    ],\n",
    "                    [ 0           ,      -(G2+s*C2)    ,  (G2+s*C2)  ,         0    ],\n",
    "                    [-(G1 + s*C1) ,          -G3       ,      0      ,G3 + G1 + s*C1]\n",
    "                 ])\n",
    "Ymai =sp.nsimplify(Ymai)\n",
    "print_latex(sp.latex(Ymai))"
   ]
  },
  {
   "cell_type": "code",
   "execution_count": 20,
   "id": "56405ed1-10d0-455b-a5d4-e66bbf8e77ea",
   "metadata": {},
   "outputs": [
    {
     "data": {
      "text/latex": [
       "$\\displaystyle T^{ 21 }_{ 01 } = \\frac{s + 1}{2 \\left(s^{2} + 6 s + 8\\right)}$"
      ],
      "text/plain": [
       "<IPython.core.display.Math object>"
      ]
     },
     "metadata": {},
     "output_type": "display_data"
    },
    {
     "data": {
      "text/latex": [
       "$\\displaystyle Z^{}_{ 11 } = \\frac{s^{2} + 6 s + 8}{s^{2} + 4 s + 3}$"
      ],
      "text/plain": [
       "<IPython.core.display.Math object>"
      ]
     },
     "metadata": {},
     "output_type": "display_data"
    },
    {
     "data": {
      "text/latex": [
       "$\\displaystyle Z^{}_{ 21 } = \\frac{1}{2 \\left(s + 3\\right)}$"
      ],
      "text/plain": [
       "<IPython.core.display.Math object>"
      ]
     },
     "metadata": {},
     "output_type": "display_data"
    }
   ],
   "source": [
    "con_detalles = False\n",
    "# con_detalles = True\n",
    "\n",
    "Vmai = calc_MAI_vtransf_ij_mn( Ymai, 1, 2, 0, 2, verbose=con_detalles)\n",
    "\n",
    "Vmai = sp.nsimplify(Vmai)\n",
    "Vmai = sp.simplify(Vmai)\n",
    "print_latex( r'T^{{ {:d}{:d} }}_{{ {:d}{:d} }} = '.format(2, 1, 0, 1) +  sp.latex(Vmai))\n",
    "\n",
    "Z11 = calc_MAI_impedance_ij(Ymai, 0, 2, verbose=con_detalles)\n",
    "Z11 = sp.nsimplify(Z11)\n",
    "Z11 = sp.simplify(Z11)\n",
    "print_latex( r'Z^{{}}_{{ {:d}{:d} }} = '.format(1, 1) +  sp.latex(Z11))\n",
    "\n",
    "Z21 = calc_MAI_ztransf_ij_mn(Ymai, 0, 2, 1, 2, verbose=con_detalles)\n",
    "Z21 = sp.nsimplify(Z21)\n",
    "Z21 = sp.simplify(Z21)\n",
    "print_latex( r'Z^{{}}_{{ {:d}{:d} }} = '.format(2, 1) +  sp.latex(Z21))"
   ]
  },
  {
   "cell_type": "markdown",
   "id": "77bafabb-edf8-4bf6-8997-8cd41ae738b8",
   "metadata": {},
   "source": [
    "Vemos como la función transferencia se cumple, sin embargo como una de las singularidades del polinomio auxiliar coinciden con uno de los ceros de Z21 los parámetros tienen distinto denominador, esto sin embargo NO afecta a la transferencia que se pedía sintetizar.\n",
    "\n",
    "Ahora se realizará el mismo trabajo pero sintetizando admitancias.\n",
    "\n",
    "### Síntesis de admitancias\n"
   ]
  },
  {
   "cell_type": "code",
   "execution_count": 23,
   "id": "4ddbaecc-f9ca-48ac-accb-69ad4252d64a",
   "metadata": {},
   "outputs": [
    {
     "data": {
      "text/latex": [
       "$\\displaystyle Y22(s)=\\frac{\\left(s + 2\\right) \\left(s + 4\\right)}{s + 3}$"
      ],
      "text/plain": [
       "<IPython.core.display.Math object>"
      ]
     },
     "metadata": {},
     "output_type": "display_data"
    },
    {
     "data": {
      "text/latex": [
       "$\\displaystyle R1=\\frac{2}{3}$"
      ],
      "text/plain": [
       "<IPython.core.display.Math object>"
      ]
     },
     "metadata": {},
     "output_type": "display_data"
    },
    {
     "data": {
      "text/latex": [
       "$\\displaystyle Y1(s)=\\frac{\\left(s + 1\\right) \\left(2 s + 7\\right)}{2 \\left(s + 3\\right)}$"
      ],
      "text/plain": [
       "<IPython.core.display.Math object>"
      ]
     },
     "metadata": {},
     "output_type": "display_data"
    }
   ],
   "source": [
    "Y22 = 1*(s + 2)*(s + 4)/((s + 3))\n",
    "\n",
    "print_latex(a_equal_b_latex_s('Y22(s)', Y22))\n",
    "\n",
    "Y1, k0 = remover_valor_en_dc(Y22, sigma_zero = 1)\n",
    "\n",
    "print_latex(a_equal_b_latex_s('R1', 1/k0))\n",
    "print_latex(a_equal_b_latex_s('Y1(s)',Y1))"
   ]
  },
  {
   "cell_type": "code",
   "execution_count": 27,
   "id": "f1abb1ca-c890-4099-ba0a-46a9d9a9b304",
   "metadata": {},
   "outputs": [
    {
     "data": {
      "text/latex": [
       "$\\displaystyle Zb(s)=\\frac{4}{5 \\left(s + 1\\right)}$"
      ],
      "text/plain": [
       "<IPython.core.display.Math object>"
      ]
     },
     "metadata": {},
     "output_type": "display_data"
    },
    {
     "data": {
      "text/latex": [
       "$\\displaystyle C2=\\frac{5}{4}$"
      ],
      "text/plain": [
       "<IPython.core.display.Math object>"
      ]
     },
     "metadata": {},
     "output_type": "display_data"
    },
    {
     "data": {
      "text/latex": [
       "$\\displaystyle R2=\\frac{4}{5}$"
      ],
      "text/plain": [
       "<IPython.core.display.Math object>"
      ]
     },
     "metadata": {},
     "output_type": "display_data"
    },
    {
     "data": {
      "text/latex": [
       "$\\displaystyle Z2(s)=\\frac{2}{5 \\cdot \\left(2 s + 7\\right)}$"
      ],
      "text/plain": [
       "<IPython.core.display.Math object>"
      ]
     },
     "metadata": {},
     "output_type": "display_data"
    }
   ],
   "source": [
    "Z1 = 1/Y1\n",
    "\n",
    "Z2, k1, R2, C2 = remover_polo_sigma(Z1, sigma = 1)\n",
    "\n",
    "print_latex(a_equal_b_latex_s('Zb(s)', k1))\n",
    "print_latex(a_equal_b_latex_s('C2', C2))\n",
    "print_latex(a_equal_b_latex_s('R2', R2))\n",
    "print_latex(a_equal_b_latex_s('Z2(s)',Z2))"
   ]
  },
  {
   "cell_type": "code",
   "execution_count": 28,
   "id": "4361574f-0f0f-412a-9242-833bf32a035e",
   "metadata": {},
   "outputs": [
    {
     "data": {
      "text/latex": [
       "$\\displaystyle Y2(s)=5 s + \\frac{35}{2}$"
      ],
      "text/plain": [
       "<IPython.core.display.Math object>"
      ]
     },
     "metadata": {},
     "output_type": "display_data"
    }
   ],
   "source": [
    "Y2 = 1/Z2\n",
    "\n",
    "print_latex(a_equal_b_latex_s('Y2(s)',Y2))"
   ]
  },
  {
   "cell_type": "markdown",
   "id": "3c3a962c-5871-476e-bd87-9fe5c55f59cc",
   "metadata": {},
   "source": [
    "Vemos como el cierre de la sintesis sería un resistor en paralelo a un capacitor, como el circuito debe cerrar en serie se remueve el capacitor en derivación para generar el cero de transferencia y luego se termina con el resistor en serie como se muestra el análisis en papel. A continuación se utiliza la MAI para corroborar la transferencia"
   ]
  },
  {
   "cell_type": "code",
   "execution_count": 29,
   "id": "87dd75d1-737a-4461-ab4c-e22256400b05",
   "metadata": {},
   "outputs": [
    {
     "data": {
      "text/latex": [
       "$\\displaystyle \\left[\\begin{matrix}\\frac{35}{2} & 0 & - \\frac{35}{2} & 0\\\\0 & \\frac{5 s}{4} + \\frac{11}{4} & - \\frac{5 s}{4} - \\frac{5}{4} & - \\frac{3}{2}\\\\- \\frac{35}{2} & - \\frac{5 s}{4} - \\frac{5}{4} & \\frac{25 s}{4} + \\frac{75}{4} & - 5 s\\\\0 & - \\frac{3}{2} & - 5 s & 5 s + \\frac{3}{2}\\end{matrix}\\right]$"
      ],
      "text/plain": [
       "<IPython.core.display.Math object>"
      ]
     },
     "metadata": {},
     "output_type": "display_data"
    }
   ],
   "source": [
    "R1 = 2/35\n",
    "G1 = 1/R1\n",
    "C1 = 5\n",
    "R2 = 4/5\n",
    "G2 = 1/R2\n",
    "C2 = 5/4\n",
    "R3 = 2/3\n",
    "G3 = 1/R3\n",
    "\n",
    "\n",
    "## Armo la MAI\n",
    "\n",
    "##              Nodos: 0            1              2               \n",
    "Ymai = sp.Matrix([  \n",
    "                    [      G1     ,       0            ,     -G1              ,         0    ],\n",
    "                    [      0      ,  (G2+s*C2) + G3    , -(G2+s*C2)           ,       -G3    ],\n",
    "                    [     -G1     ,      -(G2+s*C2)    ,(G2+s*C2) + G1 +s*C1  ,      -s*C1   ],\n",
    "                    [      0      ,          -G3       ,    -s*C1             ,    G3 + s*C1 ]\n",
    "                 ])\n",
    "Ymai =sp.nsimplify(Ymai)\n",
    "print_latex(sp.latex(Ymai))"
   ]
  },
  {
   "cell_type": "code",
   "execution_count": 30,
   "id": "49c92a37-fb71-4c2d-964b-ccfa71ca4cfb",
   "metadata": {},
   "outputs": [
    {
     "data": {
      "text/latex": [
       "$\\displaystyle T^{ 13 }_{ 03 } = \\frac{7 \\left(s + 1\\right)}{2 \\left(s^{2} + 6 s + 8\\right)}$"
      ],
      "text/plain": [
       "<IPython.core.display.Math object>"
      ]
     },
     "metadata": {},
     "output_type": "display_data"
    }
   ],
   "source": [
    "con_detalles = False\n",
    "# con_detalles = True\n",
    "\n",
    "Vmai = calc_MAI_vtransf_ij_mn( Ymai, 1, 3, 0, 3, verbose=con_detalles)\n",
    "\n",
    "Vmai = sp.nsimplify(Vmai)\n",
    "Vmai = sp.simplify(Vmai)\n",
    "print_latex( r'T^{{ {:d}{:d} }}_{{ {:d}{:d} }} = '.format(1, 3, 0, 3) +  sp.latex(Vmai))\n"
   ]
  },
  {
   "attachments": {},
   "cell_type": "markdown",
   "id": "7e0e41bb-dad8-4fe2-8a46-112c4d2283d1",
   "metadata": {},
   "source": [
    "Se observa como ambos circuitos respetan la transferencia pedida, la única diferencia entre ambas es la escala, una es de $\\frac{7}{2}$ mientras que en la otra es de $\\frac{1}{2}$. A continuación se simularán en Spice ambos circuitos para poder observar el comportamiento de ambas transferencias.\n",
    "\n",
    "### Simulación En Spice\n",
    "\n",
    "![Texto alternativo](./Img/esch_E2.png \"Imagen 5. Circuito simulado en Spice\")\n",
    "\n",
    "<center>  Imagen 2. Circuito simulado en Spice </center>\n",
    "\n",
    "![Texto alternativo](./Img/out_E2.png \"Imagen 6. Comparación de las transferencias\")\n",
    "\n",
    "<center>  Imagen 6. Comparación de las transferencias</center>\n",
    "\n",
    "Vemos como ambas transferencias son exactamente iguales, solo varían en su valor de continua como se analizó previamente con la simulación numérica."
   ]
  }
 ],
 "metadata": {
  "kernelspec": {
   "display_name": "Python 3 (ipykernel)",
   "language": "python",
   "name": "python3"
  },
  "language_info": {
   "codemirror_mode": {
    "name": "ipython",
    "version": 3
   },
   "file_extension": ".py",
   "mimetype": "text/x-python",
   "name": "python",
   "nbconvert_exporter": "python",
   "pygments_lexer": "ipython3",
   "version": "3.11.5"
  }
 },
 "nbformat": 4,
 "nbformat_minor": 5
}

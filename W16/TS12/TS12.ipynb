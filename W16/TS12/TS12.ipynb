{
 "cells": [
  {
   "cell_type": "markdown",
   "id": "b2e95e6f",
   "metadata": {},
   "source": [
    "<img src=\"./Img/logo_UTN.svg\" align=\"right\" width=\"150\" /> \n",
    "\n",
    "#### Teoría de Circuitos II\n",
    "# Tarea Semanal 12\n",
    "## Síntesis de funciones Transferencias descargadas\n",
    "## 24-11-2023\n",
    "#### Autor: Yañez $\\lambda$, Joaquin"
   ]
  },
  {
   "cell_type": "markdown",
   "id": "d7e9abbd",
   "metadata": {},
   "source": [
    "## Consigna\n",
    "\n",
    "Esta tarea semanal se basa en el diseño y síntesis de funciones transferencias simplemente cargadas, la misma consta de dos ejercicios distintos que se resolverán en diferentes partes de este documento. El primero pide sintetizar un circuito RC que cumpla con un parámetros impedancia y con la transferencia de corriente medida con la carga. El segundo ejercicio pide sintetizar una función transferencia, pero esta vez con un cuadripolo no disipativo.\n",
    "\n",
    "## Ejercicio #1\n",
    "\n",
    "La consigna del primer ejercicio es la siguiente:\n",
    "\n",
    "![Texto alternativo](./Img/Consignas.png \"Imagen 1. Consigna del primer ejercicio\")\n",
    "\n",
    "<center>  Imagen 1. Consigna del primer ejercicio </center>\n",
    "\n",
    "A continuación se muestra la síntesis realizada en papel, primero se realizó un análisis gráfico para lograr encontrar el cirucito sin valores para después realizar un análisis analítico y así encontrar los valores de los componentes. Cabe destacar que se tiene que tener en cuenta las condiciones de medición y de excitación de los diferentes parámetros para realizar el circuito.\n",
    "\n",
    "### Análisis en papel"
   ]
  },
  {
   "cell_type": "code",
   "execution_count": 1,
   "id": "c74dac7a",
   "metadata": {},
   "outputs": [
    {
     "data": {
      "text/html": [
       "\n",
       "        <iframe\n",
       "            width=\"1000\"\n",
       "            height=\"800\"\n",
       "            src=\"./src/TS12_E1.pdf\"\n",
       "            frameborder=\"0\"\n",
       "            allowfullscreen\n",
       "            \n",
       "        ></iframe>\n",
       "        "
      ],
      "text/plain": [
       "<IPython.lib.display.IFrame at 0x7f65dd4476d0>"
      ]
     },
     "execution_count": 1,
     "metadata": {},
     "output_type": "execute_result"
    }
   ],
   "source": [
    "from IPython.display import IFrame\n",
    "IFrame(\"./src/TS12_E1.pdf\", width=1000, height=800)"
   ]
  },
  {
   "cell_type": "markdown",
   "id": "65bf3658-cd3a-41f9-ad6c-02c3d0b6a4cc",
   "metadata": {},
   "source": [
    "Ahora se realizará una simulación en python para comparar los resultados en papel."
   ]
  },
  {
   "cell_type": "code",
   "execution_count": 2,
   "id": "3dc9927f",
   "metadata": {},
   "outputs": [],
   "source": [
    "from pytc2.sintesis_dipolo import remover_polo_dc, remover_polo_infinito\n",
    "from pytc2.general import print_latex, print_subtitle, a_equal_b_latex_s\n",
    "from pytc2.remociones import remover_polo_jw, remover_valor_en_infinito, remover_valor_en_dc, remover_polo_sigma\n",
    "import sympy as sp"
   ]
  },
  {
   "cell_type": "code",
   "execution_count": 3,
   "id": "05f6bc87",
   "metadata": {},
   "outputs": [
    {
     "data": {
      "text/latex": [
       "$\\displaystyle T(s)=\\frac{H \\left(s^{2} + 5 s + 4\\right)}{s^{2} + 8 s + 12}$"
      ],
      "text/plain": [
       "<IPython.core.display.Math object>"
      ]
     },
     "metadata": {},
     "output_type": "display_data"
    },
    {
     "data": {
      "text/latex": [
       "$\\displaystyle Z21(s)=6 H$"
      ],
      "text/plain": [
       "<IPython.core.display.Math object>"
      ]
     },
     "metadata": {},
     "output_type": "display_data"
    }
   ],
   "source": [
    "s = sp.symbols('s', complex=True)\n",
    "H = sp.symbols('H')\n",
    "Ts = (H*(s**2 + 5*s + 4))/((s**2 + 8*s + 12))\n",
    "Z21 = 6*H\n",
    "\n",
    "print_latex(a_equal_b_latex_s('T(s)', Ts))\n",
    "print_latex(a_equal_b_latex_s('Z21(s)', Z21))"
   ]
  },
  {
   "cell_type": "code",
   "execution_count": 6,
   "id": "c567d022",
   "metadata": {},
   "outputs": [
    {
     "data": {
      "text/latex": [
       "$\\displaystyle Z22(s)=\\frac{5 s^{2} + 43 s + 68}{s^{2} + 5 s + 4}$"
      ],
      "text/plain": [
       "<IPython.core.display.Math object>"
      ]
     },
     "metadata": {},
     "output_type": "display_data"
    }
   ],
   "source": [
    "# Sintesis del parámetro Z22\n",
    "Z22 = Z21/Ts - 1\n",
    "Z22 = sp.nsimplify(sp.simplify(Z22))\n",
    "\n",
    "print_latex(a_equal_b_latex_s('Z22(s)', Z22))"
   ]
  },
  {
   "cell_type": "code",
   "execution_count": 8,
   "id": "ffee9985-a4ab-4caf-a783-f5edab2bb3f0",
   "metadata": {},
   "outputs": [
    {
     "data": {
      "text/latex": [
       "$\\displaystyle Za(s)=\\frac{10}{s + 1}$"
      ],
      "text/plain": [
       "<IPython.core.display.Math object>"
      ]
     },
     "metadata": {},
     "output_type": "display_data"
    },
    {
     "data": {
      "text/latex": [
       "$\\displaystyle Z1(s)=\\frac{5 s + 28}{s + 4}$"
      ],
      "text/plain": [
       "<IPython.core.display.Math object>"
      ]
     },
     "metadata": {},
     "output_type": "display_data"
    },
    {
     "data": {
      "text/latex": [
       "$\\displaystyle R1=10$"
      ],
      "text/plain": [
       "<IPython.core.display.Math object>"
      ]
     },
     "metadata": {},
     "output_type": "display_data"
    },
    {
     "data": {
      "text/latex": [
       "$\\displaystyle C1=\\frac{1}{10}$"
      ],
      "text/plain": [
       "<IPython.core.display.Math object>"
      ]
     },
     "metadata": {},
     "output_type": "display_data"
    }
   ],
   "source": [
    "Z1, Za, R1, C1 = remover_polo_sigma(Z22, sigma = 1)\n",
    "\n",
    "print_latex(a_equal_b_latex_s('Za(s)', Za))\n",
    "print_latex(a_equal_b_latex_s('Z1(s)', Z1))\n",
    "print_latex(a_equal_b_latex_s('R1', R1))\n",
    "print_latex(a_equal_b_latex_s('C1', C1))"
   ]
  },
  {
   "cell_type": "markdown",
   "id": "3ba6d24b-e1dd-4907-bfae-b5ea02a1d349",
   "metadata": {},
   "source": [
    "El residuo representa un inductor de valor $10$, como se mostraba en el papel, también coinciden los valores de los componentes"
   ]
  },
  {
   "cell_type": "code",
   "execution_count": 9,
   "id": "3c18ed1a",
   "metadata": {},
   "outputs": [
    {
     "data": {
      "text/latex": [
       "$\\displaystyle Zb(s)=\\frac{8}{s + 4}$"
      ],
      "text/plain": [
       "<IPython.core.display.Math object>"
      ]
     },
     "metadata": {},
     "output_type": "display_data"
    },
    {
     "data": {
      "text/latex": [
       "$\\displaystyle Z2(s)=5$"
      ],
      "text/plain": [
       "<IPython.core.display.Math object>"
      ]
     },
     "metadata": {},
     "output_type": "display_data"
    },
    {
     "data": {
      "text/latex": [
       "$\\displaystyle R2=2$"
      ],
      "text/plain": [
       "<IPython.core.display.Math object>"
      ]
     },
     "metadata": {},
     "output_type": "display_data"
    },
    {
     "data": {
      "text/latex": [
       "$\\displaystyle C2=\\frac{1}{8}$"
      ],
      "text/plain": [
       "<IPython.core.display.Math object>"
      ]
     },
     "metadata": {},
     "output_type": "display_data"
    }
   ],
   "source": [
    "# Primero se convierte la función en una admitancia para poder sintetizarla con foster derivación\n",
    "Z2, Zb, R2, C2 = remover_polo_sigma(Z1, sigma = 4)\n",
    "\n",
    "print_latex(a_equal_b_latex_s('Zb(s)', Zb))\n",
    "print_latex(a_equal_b_latex_s('Z2(s)', Z2))\n",
    "print_latex(a_equal_b_latex_s('R2', R2))\n",
    "print_latex(a_equal_b_latex_s('C2', C2))"
   ]
  },
  {
   "cell_type": "markdown",
   "id": "00f753bd-0249-4b56-8c8f-88a9e32690fe",
   "metadata": {},
   "source": [
    "Nuevamente se confirma lo analizado en el papel, se acaba de remover un tanque RC serie con resonancia en $\\sigma = 4$. además como era de esperarse finaliza la síntesis con una resistencia de valor 5, la cual se coloca en derivación debido a que la excitación es una fuente ideal de **corriente**.\n",
    "\n",
    "Para verificar los parámetros pedidos, se simuló en Spice el circuito obtenido, se graficaron los parámetros que pedía la consigna y se busca que tengan las singularidades en las frecuencias esperadas, los resultados fueron los siguientes:\n",
    "\n",
    "![Texto alternativo](./Img/esch_E1.png \"Imagen 2. Circuito simulado en Spice\")\n",
    "\n",
    "<center>  Imagen 2. Circuito simulado en Spice </center>\n",
    "\n",
    "![Texto alternativo](./Img/out_E1.png \"Imagen 3. Parámetros obtenidos\")\n",
    "\n",
    "<center>  Imagen 3. Parámetros obtenidos</center>\n",
    "\n",
    "Es destacable como el Z21 es constante como se esperaba y tiene el valor obtenido en papel, además la transferencia tiene comportanmiento de pasa todo como se esperaba y los valores en extremo de banda coinciden con los de la transferencia obtenida en papel.\n",
    "\n",
    "# Ejercicio #2\n",
    "\n",
    "A continuación se muestra la consigna de la 2da parte de la tarea semanal, este pide obtener la síntesis de una red a partir de la función transimpedancia.\n",
    "\n",
    "![Texto alternativo](./Img/Consignas_2.png \"Imagen 4. Consigna del segundo ejercicio\")\n",
    "<center>  Imagen 4. Consigna del segundo ejercicio </center>\n",
    "\n",
    "A continuación se muestra el análisis resuelto en papel del ejercicio."
   ]
  },
  {
   "cell_type": "code",
   "execution_count": 10,
   "id": "b5f5e6e0-eb73-41c6-8d43-a61e327f5787",
   "metadata": {},
   "outputs": [
    {
     "data": {
      "text/html": [
       "\n",
       "        <iframe\n",
       "            width=\"1000\"\n",
       "            height=\"800\"\n",
       "            src=\"./src/TS12_E2.pdf\"\n",
       "            frameborder=\"0\"\n",
       "            allowfullscreen\n",
       "            \n",
       "        ></iframe>\n",
       "        "
      ],
      "text/plain": [
       "<IPython.lib.display.IFrame at 0x7f65a258ead0>"
      ]
     },
     "execution_count": 10,
     "metadata": {},
     "output_type": "execute_result"
    }
   ],
   "source": [
    "IFrame(\"./src/TS12_E2.pdf\", width=1000, height=800)"
   ]
  },
  {
   "cell_type": "markdown",
   "id": "2950d776-97bc-4ca9-a453-81d9230940ea",
   "metadata": {},
   "source": [
    "Para poder comprobar el análisis se realiza una pequeña simulación en python. Como el ejercicio es muy específico y no hay un método sistemático para resolverlo se irá removiendo componente a componente y comparandolo con el valor esperado\n",
    "\n",
    "### Sintesis de impedancia"
   ]
  },
  {
   "cell_type": "code",
   "execution_count": 13,
   "id": "24e5ca82-7f03-46f4-821c-843c26c02e6e",
   "metadata": {},
   "outputs": [
    {
     "data": {
      "text/latex": [
       "$\\displaystyle T(s)=\\frac{k \\left(s^{2} + 9\\right)}{s^{3} + 2 s^{2} + 2 s + 1}$"
      ],
      "text/plain": [
       "<IPython.core.display.Math object>"
      ]
     },
     "metadata": {},
     "output_type": "display_data"
    },
    {
     "data": {
      "text/latex": [
       "$\\displaystyle Z_{22}(s)=\\frac{2 s^{2} + 1}{s^{3} + 2 s}$"
      ],
      "text/plain": [
       "<IPython.core.display.Math object>"
      ]
     },
     "metadata": {},
     "output_type": "display_data"
    }
   ],
   "source": [
    "s = sp.symbols('s', complex=True)\n",
    "k = sp.symbols('k')\n",
    "\n",
    "Ti = k*(s**2 + 9)/(s**3 + 2*s**2 + 2*s +1)\n",
    "\n",
    "print_latex(a_equal_b_latex_s('T(s)', Ti))\n",
    "\n",
    "Z22 = (2*s**2 + 1)/(s**3 + 2*s)\n",
    "print_latex(a_equal_b_latex_s('Z_{22}(s)', Z22))"
   ]
  },
  {
   "cell_type": "code",
   "execution_count": 17,
   "id": "f18d2731-a3c9-4a75-94f0-29b204bf7f49",
   "metadata": {},
   "outputs": [
    {
     "data": {
      "text/latex": [
       "$\\displaystyle Z_{a}(s)=\\frac{7 s}{17}$"
      ],
      "text/plain": [
       "<IPython.core.display.Math object>"
      ]
     },
     "metadata": {},
     "output_type": "display_data"
    },
    {
     "data": {
      "text/latex": [
       "$\\displaystyle Y1(s)=\\frac{3 s \\left(s^{2} + 9\\right)}{17 \\cdot \\left(2 s^{2} + 1\\right)}$"
      ],
      "text/plain": [
       "<IPython.core.display.Math object>"
      ]
     },
     "metadata": {},
     "output_type": "display_data"
    },
    {
     "data": {
      "text/latex": [
       "$\\displaystyle Z_{b}(s)=\\frac{289 s}{27 \\left(s^{2} + 9\\right)}$"
      ],
      "text/plain": [
       "<IPython.core.display.Math object>"
      ]
     },
     "metadata": {},
     "output_type": "display_data"
    },
    {
     "data": {
      "text/latex": [
       "$\\displaystyle L2=\\frac{289}{243}$"
      ],
      "text/plain": [
       "<IPython.core.display.Math object>"
      ]
     },
     "metadata": {},
     "output_type": "display_data"
    },
    {
     "data": {
      "text/latex": [
       "$\\displaystyle C2=\\frac{27}{289}$"
      ],
      "text/plain": [
       "<IPython.core.display.Math object>"
      ]
     },
     "metadata": {},
     "output_type": "display_data"
    },
    {
     "data": {
      "text/latex": [
       "$\\displaystyle Z2(s)=\\frac{17}{27 s}$"
      ],
      "text/plain": [
       "<IPython.core.display.Math object>"
      ]
     },
     "metadata": {},
     "output_type": "display_data"
    }
   ],
   "source": [
    "# Remoción del capacitor y del resistor en derivavción de la entrada\n",
    "\n",
    "Y1, K1 = remover_polo_infinito(1/Z22, omega_zero = 3)\n",
    "\n",
    "print_latex(a_equal_b_latex_s('Z_{a}(s)', K1))\n",
    "print_latex(a_equal_b_latex_s('Y1(s)',Y1))\n",
    "\n",
    "\n",
    "Z2, Zb, L2, C2 = remover_polo_jw(1/Y1, omega = 3)\n",
    "print_latex(a_equal_b_latex_s('Z_{b}(s)', Zb))\n",
    "print_latex(a_equal_b_latex_s('L2', L2))\n",
    "print_latex(a_equal_b_latex_s('C2', C2))\n",
    "print_latex(a_equal_b_latex_s('Z2(s)',Z2))\n"
   ]
  },
  {
   "attachments": {},
   "cell_type": "markdown",
   "id": "7e0e41bb-dad8-4fe2-8a46-112c4d2283d1",
   "metadata": {},
   "source": [
    "Para finalizar la síntesis vemos que queda un capacitor el cual se remueve en derivación para la sintesis se simula el circuito en spice, se espera ver una transferencia pasabajos de máxima planicidad con un cero de transferencia en $\\omega = 3$, además debe tener una pendiente de $60\\frac{dB}{dec}$.\n",
    "\n",
    "### Simulación En Spice\n",
    "\n",
    "![Texto alternativo](./Img/esch_E2.png \"Imagen 5. Circuito simulado en Spice\")\n",
    "\n",
    "<center>  Imagen 2. Circuito simulado en Spice </center>\n",
    "\n",
    "![Texto alternativo](./Img/out_E2.png \"Imagen 6. Comparación de las transferencias\")\n",
    "\n",
    "<center>  Imagen 6. Comparación de las transferencias</center>\n",
    "\n",
    "Vemos como los resultados son los esperados."
   ]
  }
 ],
 "metadata": {
  "kernelspec": {
   "display_name": "Python 3 (ipykernel)",
   "language": "python",
   "name": "python3"
  },
  "language_info": {
   "codemirror_mode": {
    "name": "ipython",
    "version": 3
   },
   "file_extension": ".py",
   "mimetype": "text/x-python",
   "name": "python",
   "nbconvert_exporter": "python",
   "pygments_lexer": "ipython3",
   "version": "3.11.5"
  }
 },
 "nbformat": 4,
 "nbformat_minor": 5
}

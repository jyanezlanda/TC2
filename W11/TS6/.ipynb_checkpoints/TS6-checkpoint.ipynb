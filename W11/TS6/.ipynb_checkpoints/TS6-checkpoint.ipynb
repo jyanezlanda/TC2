{
 "cells": [
  {
   "cell_type": "markdown",
   "id": "b2e95e6f",
   "metadata": {},
   "source": [
    "<img src=\"./Img/logo_UTN.svg\" align=\"right\" width=\"150\" /> \n",
    "\n",
    "#### Teoría de Circuitos II\n",
    "# Tarea Semanal 6\n",
    "## 24-08-2023\n",
    "#### Autor: Yañez $\\lambda$, Joaquin"
   ]
  },
  {
   "cell_type": "markdown",
   "id": "d7e9abbd",
   "metadata": {},
   "source": [
    "## Consigna\n",
    "\n",
    "Esta tarea se centra en el análisis de cuadripolos, se evalua la interconexión de varios de estos, parámetros de un transformador ideal y el análisis de redes utilizando la Matriz Admitancia Indefinida. Esta vez a diferencia de las tareas pasadas se pide realizar dos ejercicios separados, por lo que primero se realizará todo el análisis y simulación de un ejercicio y luego lo mismo con el segundo.\n",
    "\n",
    "### Ejercicio 1:\n",
    "\n",
    "El primer enunciado de la tarea semanal pide los siguiente:\n",
    "\n",
    "![Texto alternativo](./Img/Ej1_consigna.png \"Imagen 1. Consigna del 1er punto\")\n",
    "\n",
    "<center>  Imagen 1. Consigna del 1er punto </center>\n",
    " \n",
    "Lo primero que se identifica es un transformador ideal en paralelo con una red $\\pi$ ó como se realizo en papel 3 red T en cascada con una resistencia de realimentación en paralelo. Es importante destacar los bornes homologos del transformador y que la relación de transformación del mismo es unitaria.\n",
    "\n",
    "A continuación se muestra el análisis del problema en papel:"
   ]
  },
  {
   "cell_type": "code",
   "execution_count": 5,
   "id": "70b8d114",
   "metadata": {},
   "outputs": [
    {
     "data": {
      "text/html": [
       "\n",
       "        <iframe\n",
       "            width=\"1000\"\n",
       "            height=\"800\"\n",
       "            src=\"./Src/TS6_E1.pdf\"\n",
       "            frameborder=\"0\"\n",
       "            allowfullscreen\n",
       "            \n",
       "        ></iframe>\n",
       "        "
      ],
      "text/plain": [
       "<IPython.lib.display.IFrame at 0x7f9392f05f30>"
      ]
     },
     "execution_count": 5,
     "metadata": {},
     "output_type": "execute_result"
    }
   ],
   "source": [
    "from IPython.display import IFrame\n",
    "IFrame(\"./Src/TS6_E1.pdf\", width=1000, height=800)"
   ]
  },
  {
   "cell_type": "markdown",
   "id": "00473709",
   "metadata": {},
   "source": [
    "Una vez llegado al resultado de los parámetros Z se procedió a corroborar los mismo en LTSpice.\n",
    "\n",
    "### Simulación circuital:\n",
    "\n",
    "En el simulador se planteó el siguiente esquemático:\n",
    "\n",
    "![Texto alternativo](./Img/Ej1_esq.png \"Imagen 2. Esquemático planteado en Spice\")\n",
    "\n",
    "<center>  Imagen 2. Esquemático planteado en Spice </center>\n",
    "\n",
    "Cabe destacar que el transformador planteado de esta manera no es simulado como ideal sino que es perfecto, por lo que es de esperarse que en baja frecuencia este no acople y los resultados presenten un caracter inductivo.\n",
    "\n",
    "El resultado de la simulación es el siguiente:\n",
    "\n",
    "![Texto alternativo](./Img/Ej1_out.png \"Imagen 3. Salida de la simulación en Spice\")\n",
    "\n",
    "<center>  Imagen 3. Salida de la simulación en Spice </center>\n",
    "\n",
    "Se puede observar como todos los parámetros presentan el caracter inductivo que se había previsto. Además el valor de los parámetros en alta frecuencia es parecido al obtenido en el análisis en papel y cabe destacar que el signo negativo obtenido en el papel en los parámetros de la diagonal secundaria se reflejan en las fases de los parámetros, se observa que el Z12 y el Z21 tienen fase de $\\pi$ haciendo que el valor sea real pero negativo.\n",
    "\n",
    "***"
   ]
  },
  {
   "cell_type": "markdown",
   "id": "417c43b2",
   "metadata": {},
   "source": [
    "## Ejercicio 2:\n",
    "\n",
    "La consigna del segundo ejercicio es la siguiente:\n",
    "\n",
    "![Texto alternativo](./Img/Ej2_consigna.png \"Imagen 4. Consigna del 2do punto\")\n",
    "\n",
    "<center>  Imagen 4. Consigna del 2do punto </center>\n",
    "\n",
    "Se pide analizar un circuito pasivo utilizando la teoría de cuadripolos, para esto se plantearan distintos cuadripolos elementales y su correspondiente interconexión para llegar a un juego de parámetros úinco del circuito y luego con los parámetros T se puede obtener la transferencia de tensión realizando la inversión del parámetro A. El análisis en papel es el siguiente:"
   ]
  },
  {
   "cell_type": "code",
   "execution_count": 4,
   "id": "a107951d",
   "metadata": {
    "scrolled": false
   },
   "outputs": [
    {
     "data": {
      "text/html": [
       "\n",
       "        <iframe\n",
       "            width=\"1000\"\n",
       "            height=\"800\"\n",
       "            src=\"./Src/TS6_E2.pdf\"\n",
       "            frameborder=\"0\"\n",
       "            allowfullscreen\n",
       "            \n",
       "        ></iframe>\n",
       "        "
      ],
      "text/plain": [
       "<IPython.lib.display.IFrame at 0x7f9392f06a40>"
      ]
     },
     "execution_count": 4,
     "metadata": {},
     "output_type": "execute_result"
    }
   ],
   "source": [
    "IFrame(\"./Src/TS6_E2.pdf\", width=1000, height=800)"
   ]
  },
  {
   "cell_type": "markdown",
   "id": "839ccc13",
   "metadata": {},
   "source": [
    "Se observa como la transferencia obtenida es un circuito PasaBajos, de antemano esto es esperable ya que tenemos dos inductores en serie que a baja frecuencia presentan una baja impedancia. Además el circuito presenta 3 elementos reactivos que coincide con la cantidad de polos que presenta la transferencia.\n",
    "Además de la obtención de la transerencia se confeccionó la Matriz Admitancia Indefinida del circuito que se utilizará para obtener la transferencia en un análisis numérico a continuación\n",
    "\n",
    "## Simulación numérica\n"
   ]
  },
  {
   "cell_type": "code",
   "execution_count": 6,
   "id": "d092f1fe",
   "metadata": {},
   "outputs": [],
   "source": [
    "## Librerías y funciones que se utilizaran durante el código\n",
    "import sympy as sp\n",
    "\n",
    "from pytc2.cuadripolos import calc_MAI_vtransf_ij_mn\n",
    "from pytc2.general import print_latex\n"
   ]
  },
  {
   "cell_type": "code",
   "execution_count": 14,
   "id": "171a12fc",
   "metadata": {},
   "outputs": [],
   "source": [
    "'''    \n",
    "+ Numeración de los nodos de 0 a n=3\n",
    "\n",
    "    0-------+--L1----2---L3---1\n",
    "                     |       |\n",
    "                    C2       G\n",
    "                    |       |\n",
    "    3--------------+--------\n",
    "    \n",
    "'''    \n",
    "## Definición de las variables simbólicas\n",
    "s = sp.symbols('s', complex=True)\n",
    "L1, C2, L3, G = sp.symbols('L1 C2 L3 G', real=True, positive=True)\n"
   ]
  },
  {
   "cell_type": "code",
   "execution_count": 15,
   "id": "b858747e",
   "metadata": {},
   "outputs": [
    {
     "data": {
      "text/latex": [
       "$\\displaystyle \\left[\\begin{matrix}\\frac{1}{L_{1} s} & 0 & - \\frac{1}{L_{1} s} & 0\\\\0 & G + \\frac{1}{L_{3} s} & - \\frac{1}{L_{3} s} & - G\\\\- \\frac{1}{L_{1} s} & - \\frac{1}{L_{3} s} & C_{2} s + \\frac{1}{L_{3} s} + \\frac{1}{L_{1} s} & - C_{2} s\\\\0 & - G & - C_{2} s & C_{2} s + G\\end{matrix}\\right]$"
      ],
      "text/plain": [
       "<IPython.core.display.Math object>"
      ]
     },
     "metadata": {},
     "output_type": "display_data"
    }
   ],
   "source": [
    "## Armo la MAI\n",
    "\n",
    "##              Nodos: 0            1              2               3\n",
    "Ymai = sp.Matrix([  \n",
    "                    [ 1/(s*L1),       0,              -1/(s*L1),                  0    ],\n",
    "                    [     0,      1/(s*L3) + G,       -1/(s*L3),                 -G    ],\n",
    "                    [ -1/(s*L1),   -1/(s*L3) ,   s*C2 + 1/(s*L3) + 1/(s*L1),    -s*C2  ],\n",
    "                    [     0,           -G,              -s*C2,                G + s*C2 ]\n",
    "                 ])\n",
    "print_latex(sp.latex(Ymai))"
   ]
  },
  {
   "cell_type": "code",
   "execution_count": 18,
   "id": "56814664",
   "metadata": {},
   "outputs": [
    {
     "data": {
      "text/latex": [
       "$\\displaystyle  [Y_{MAI}] = \\left[\\begin{matrix}\\frac{1}{L_{1} s} & 0 & - \\frac{1}{L_{1} s} & 0\\\\0 & G + \\frac{1}{L_{3} s} & - \\frac{1}{L_{3} s} & - G\\\\- \\frac{1}{L_{1} s} & - \\frac{1}{L_{3} s} & C_{2} s + \\frac{1}{L_{3} s} + \\frac{1}{L_{1} s} & - C_{2} s\\\\0 & - G & - C_{2} s & C_{2} s + G\\end{matrix}\\right]$"
      ],
      "text/plain": [
       "<IPython.core.display.Math object>"
      ]
     },
     "metadata": {},
     "output_type": "display_data"
    },
    {
     "data": {
      "text/latex": [
       "$\\displaystyle  [Y^{ 03 }_{ 13 } ] = \\left[\\begin{matrix}0 & - \\frac{1}{L_{1} s}\\\\- \\frac{1}{L_{3} s} & C_{2} s + \\frac{1}{L_{3} s} + \\frac{1}{L_{1} s}\\end{matrix}\\right]$"
      ],
      "text/plain": [
       "<IPython.core.display.Math object>"
      ]
     },
     "metadata": {},
     "output_type": "display_data"
    },
    {
     "data": {
      "text/latex": [
       "$\\displaystyle [Y^{ 03 }_{ 03 } ] = \\left[\\begin{matrix}G + \\frac{1}{L_{3} s} & - \\frac{1}{L_{3} s}\\\\- \\frac{1}{L_{3} s} & C_{2} s + \\frac{1}{L_{3} s} + \\frac{1}{L_{1} s}\\end{matrix}\\right]$"
      ],
      "text/plain": [
       "<IPython.core.display.Math object>"
      ]
     },
     "metadata": {},
     "output_type": "display_data"
    },
    {
     "data": {
      "text/latex": [
       "$\\displaystyle T^{ 13 }_{ 03 } = \\frac{ \\underline{Y}^{ 03 }_{ 13 } }{ \\underline{Y}^{ 03 }_{ 03 } } =  -1^{ 7 } \\frac{{ - \\frac{1}{L_{1} L_{3} s^{2}}}}{{C_{2} G s + \\frac{C_{2}}{L_{3}} + \\frac{G}{L_{3} s} + \\frac{G}{L_{1} s} + \\frac{1}{L_{1} L_{3} s^{2}}}} = \\frac{1}{C_{2} G L_{1} L_{3} s^{3} + C_{2} L_{1} s^{2} + G L_{1} s + G L_{3} s + 1}$"
      ],
      "text/plain": [
       "<IPython.core.display.Math object>"
      ]
     },
     "metadata": {},
     "output_type": "display_data"
    },
    {
     "data": {
      "text/latex": [
       "$\\displaystyle T^{ 31 }_{ 01 } = \\frac{1}{C_{2} G L_{1} L_{3} s^{3} + C_{2} L_{1} s^{2} + G L_{1} s + G L_{3} s + 1}$"
      ],
      "text/plain": [
       "<IPython.core.display.Math object>"
      ]
     },
     "metadata": {},
     "output_type": "display_data"
    }
   ],
   "source": [
    "#con_detalles = False\n",
    "con_detalles = True\n",
    "\n",
    "Vmai = calc_MAI_vtransf_ij_mn( Ymai, 1, 3, 0, 3, verbose=con_detalles)\n",
    "\n",
    "\n",
    "print_latex( r'T^{{ {:d}{:d} }}_{{ {:d}{:d} }} = '.format(3, 1, 0, 1) +  sp.latex(sp.simplify(Vmai)))"
   ]
  },
  {
   "cell_type": "markdown",
   "id": "1629d7aa",
   "metadata": {},
   "source": [
    "Se puede observar como la transferencia obtenida que en papel si se realiza el factor común correspondiente para obtener el polinomio con el término de mayor orden unitario. Por último se realizó una simulación circuital de la red para corroborar que la transferencia sea correcta.\n",
    "\n",
    "## Simulación circuital\n",
    "\n",
    "El esquemático planteado en Spice fue el siguiente:\n",
    "\n",
    "\n",
    "![Texto alternativo](./Img/Ej2_esq.png \"Imagen 5. Esquemático planteado en Spice\")\n",
    "\n",
    "<center>  Imagen 5. Esquemático planteado en Spice </center>\n",
    "\n",
    "El resultado de la simulación es el siguiente:\n",
    "\n",
    "![Texto alternativo](./Img/Ej2_out.png \"Imagen 6. Salida de la simulación en Spice\")\n",
    "\n",
    "<center>  Imagen 6. Salida de la simulación en Spice </center>\n",
    "\n",
    "Se observa la salida pasabajos esperada, además se puede notar que en la frecuencia de corte se tiene una atenuación de aprosimadamente $3dB$ por lo que estamos en presencia de un filtro butterworth de 3er orden, esto también se expresa en el desarrollor de fase de $-270°$ que se debe a $90°$ por cada polo. Por último como es de esperarse la pendiente en la bada de detenida es de $60dB/dec$\n"
   ]
  }
 ],
 "metadata": {
  "kernelspec": {
   "display_name": "Python 3 (ipykernel)",
   "language": "python",
   "name": "python3"
  },
  "language_info": {
   "codemirror_mode": {
    "name": "ipython",
    "version": 3
   },
   "file_extension": ".py",
   "mimetype": "text/x-python",
   "name": "python",
   "nbconvert_exporter": "python",
   "pygments_lexer": "ipython3",
   "version": "3.10.12"
  }
 },
 "nbformat": 4,
 "nbformat_minor": 5
}

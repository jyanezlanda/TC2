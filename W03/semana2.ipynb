{
 "cells": [
  {
   "cell_type": "markdown",
   "id": "b2e95e6f",
   "metadata": {},
   "source": [
    "<img src=\"./logo_UTN.svg\" align=\"right\" width=\"150\" /> \n",
    "\n",
    "#### Teoría de Circuitos II\n",
    "\n",
    "# Evidencias semana 3 \n",
    "## 26-04-2023\n",
    "#### Autor: Yañez $\\lambda$, Joaquin"
   ]
  },
  {
   "cell_type": "markdown",
   "id": "d7e9abbd",
   "metadata": {},
   "source": [
    "Lo primero que se realizó esta semana fue ver los videos restantes de la clase 3 que hablaban sobre la distribución y diagrama de polos y ceros del filtro butterworth, con sus apuntes correspondientes. Con este conocimiento se completó y reentrgó la Tarea Semanal 2, en particular los bonus de filtro butterworth y filtropasabandas con el mismo análisis circuital. Luego se miraron los videos de la clase 4, que habla sobre el filtro chebyshev y su esquema de polos y ceros. En este punto me hizo ruido una explicación sobre como conseguir los Cn de la transferencia Cheby, ya que el argumento de un $cosh^{-1}$ debe ser un valor $\\omega>=1$ Por lo que procedí a armar la función de filtrado de un Cheby en un graficador de funciones y conseguí entender que ambas funciones dadas en el video son parte de la transferencia solo que para distintos valores de $\\omega$. Se dejan a continuación los apuntes tomados y un captura de pantalla de la gráfica realizada"
   ]
  },
  {
   "cell_type": "code",
   "execution_count": 1,
   "id": "70b8d114",
   "metadata": {},
   "outputs": [
    {
     "data": {
      "text/html": [
       "\n",
       "        <iframe\n",
       "            width=\"800\"\n",
       "            height=\"800\"\n",
       "            src=\"./ApuntesSemana3.pdf\"\n",
       "            frameborder=\"0\"\n",
       "            allowfullscreen\n",
       "            \n",
       "        ></iframe>\n",
       "        "
      ],
      "text/plain": [
       "<IPython.lib.display.IFrame at 0x7fd356d0a860>"
      ]
     },
     "execution_count": 1,
     "metadata": {},
     "output_type": "execute_result"
    }
   ],
   "source": [
    "from IPython.display import IFrame\n",
    "IFrame(\"./ApuntesSemana3.pdf\", width=800, height=800)"
   ]
  },
  {
   "cell_type": "markdown",
   "id": "dc8161c7",
   "metadata": {},
   "source": [
    "### Grafica del filtro Chebyshev en graficador\n",
    "\n",
    "Para sacarme las dudas de como eran las ecuaciones de los Cn del chebyshev realicé la siguiente simulación en un graficador de funciones:\n",
    "<img src=\"./GraficaCheby.png\"/> \n"
   ]
  }
 ],
 "metadata": {
  "kernelspec": {
   "display_name": "Python 3 (ipykernel)",
   "language": "python",
   "name": "python3"
  },
  "language_info": {
   "codemirror_mode": {
    "name": "ipython",
    "version": 3
   },
   "file_extension": ".py",
   "mimetype": "text/x-python",
   "name": "python",
   "nbconvert_exporter": "python",
   "pygments_lexer": "ipython3",
   "version": "3.10.6"
  }
 },
 "nbformat": 4,
 "nbformat_minor": 5
}

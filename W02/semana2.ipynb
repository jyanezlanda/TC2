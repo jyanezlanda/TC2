{
 "cells": [
  {
   "cell_type": "markdown",
   "id": "b2e95e6f",
   "metadata": {},
   "source": [
    "<img src=\"./logo_UTN.svg\" align=\"right\" width=\"150\" /> \n",
    "\n",
    "#### Teoría de Circuitos II\n",
    "\n",
    "# Evidencias semana 2  \n",
    "## 19-04-2023\n",
    "#### Autor: Yañez $\\lambda$, Joaquin"
   ]
  },
  {
   "cell_type": "markdown",
   "id": "d7e9abbd",
   "metadata": {},
   "source": [
    "Lo primero que se realizó esta semana fue ver los videos restantes de la clase 2 sobre sensibilidad con sus apuntes correspondientes. Con este conocimiento se realizó parte de la Tarea Semanal 2, en particular los 3 puntos obligatorios y los bonus de normalización y de sensibilidad. Luego se miraron los primeros videos de la clase 3, que habla sobre la teoría moderna de filtrado, comenzando con los filtros de máxima planicidad y en particular el filtro Butterworth. Se dejan a continuación los apuntes tomados"
   ]
  },
  {
   "cell_type": "code",
   "execution_count": 1,
   "id": "70b8d114",
   "metadata": {},
   "outputs": [
    {
     "data": {
      "text/html": [
       "\n",
       "        <iframe\n",
       "            width=\"800\"\n",
       "            height=\"800\"\n",
       "            src=\"./ApuntesSemana2.pdf\"\n",
       "            frameborder=\"0\"\n",
       "            allowfullscreen\n",
       "            \n",
       "        ></iframe>\n",
       "        "
      ],
      "text/plain": [
       "<IPython.lib.display.IFrame at 0x7f0894b0af50>"
      ]
     },
     "execution_count": 1,
     "metadata": {},
     "output_type": "execute_result"
    }
   ],
   "source": [
    "from IPython.display import IFrame\n",
    "IFrame(\"./ApuntesSemana2.pdf\", width=800, height=800)"
   ]
  },
  {
   "cell_type": "markdown",
   "id": "6d772266",
   "metadata": {},
   "source": [
    "### Tarea semanal 1:\n",
    "\n",
    "Esta semana también se completó la tarea semanal 1 con el bonus de la red normalizada, su simulación en Python y Spice y la presentación completa en Jupyter Notebook, adjuntada en el siguiente [link](https://nbviewer.org/github/jyanezlanda/TC2/blob/dc25641c4ec5a3c2ad5e314cbc620c511324f6c3/W1/Tarea_Semanal/Tarea_semanal_1.ipynb)"
   ]
  },
  {
   "cell_type": "markdown",
   "id": "dc8161c7",
   "metadata": {},
   "source": [
    "### Tarea semanal 2:\n",
    "\n",
    "Se comenzó con la tarea semanal 2, hasta el momento se completaron los 3 puntos obligatorios y los bonus de sensibilidad y de normalización de la red, se deja el link a la presentación en [Jupyter notebook](https://nbviewer.org/github/jyanezlanda/TC2/blob/164c23ea744970398cb33f738e1415281123f27f/W2/Ts2/Tarea_semanal_2.ipynb)"
   ]
  }
 ],
 "metadata": {
  "kernelspec": {
   "display_name": "Python 3 (ipykernel)",
   "language": "python",
   "name": "python3"
  },
  "language_info": {
   "codemirror_mode": {
    "name": "ipython",
    "version": 3
   },
   "file_extension": ".py",
   "mimetype": "text/x-python",
   "name": "python",
   "nbconvert_exporter": "python",
   "pygments_lexer": "ipython3",
   "version": "3.10.6"
  }
 },
 "nbformat": 4,
 "nbformat_minor": 5
}

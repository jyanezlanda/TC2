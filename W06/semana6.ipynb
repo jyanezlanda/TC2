{
 "cells": [
  {
   "cell_type": "markdown",
   "id": "b2e95e6f",
   "metadata": {},
   "source": [
    "<img src=\"./logo_UTN.svg\" align=\"right\" width=\"150\" /> \n",
    "\n",
    "#### Teoría de Circuitos II\n",
    "# Evidencias semana 6\n",
    "## 17-05-2023\n",
    "#### Autor: Yañez $\\lambda$, Joaquin"
   ]
  },
  {
   "cell_type": "markdown",
   "id": "d7e9abbd",
   "metadata": {},
   "source": [
    " Esta semana le dediqué menos tiempo que otras a la materia, lo primero que hice fue mirar todos los videos de la clase 5, hubo varios conceptos que  no me quedaron claros, sobre todo a la hora de proponer las funciones K(s) que transforman filtros pasabajos en filtros pasabandas. Luego de ver los videos comencé a realizar la TS4 pero aún no la completé."
   ]
  },
  {
   "cell_type": "code",
   "execution_count": 1,
   "id": "70b8d114",
   "metadata": {},
   "outputs": [
    {
     "data": {
      "text/html": [
       "\n",
       "        <iframe\n",
       "            width=\"800\"\n",
       "            height=\"800\"\n",
       "            src=\"./Apuntes_semana6.pdf\"\n",
       "            frameborder=\"0\"\n",
       "            allowfullscreen\n",
       "            \n",
       "        ></iframe>\n",
       "        "
      ],
      "text/plain": [
       "<IPython.lib.display.IFrame at 0x7faa0a1c2680>"
      ]
     },
     "execution_count": 1,
     "metadata": {},
     "output_type": "execute_result"
    }
   ],
   "source": [
    "from IPython.display import IFrame\n",
    "IFrame(\"./Apuntes_semana6.pdf\", width=800, height=800)"
   ]
  }
 ],
 "metadata": {
  "kernelspec": {
   "display_name": "Python 3 (ipykernel)",
   "language": "python",
   "name": "python3"
  },
  "language_info": {
   "codemirror_mode": {
    "name": "ipython",
    "version": 3
   },
   "file_extension": ".py",
   "mimetype": "text/x-python",
   "name": "python",
   "nbconvert_exporter": "python",
   "pygments_lexer": "ipython3",
   "version": "3.10.6"
  }
 },
 "nbformat": 4,
 "nbformat_minor": 5
}
